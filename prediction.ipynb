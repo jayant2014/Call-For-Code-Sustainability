{
 "cells": [
  {
   "cell_type": "code",
   "execution_count": 10,
   "id": "99a677ba",
   "metadata": {},
   "outputs": [],
   "source": [
    "from tensorflow.keras.preprocessing import image\n",
    "import os\n",
    "import numpy as np\n",
    "from tensorflow.keras.models import load_model"
   ]
  },
  {
   "cell_type": "code",
   "execution_count": 11,
   "id": "da7a015f",
   "metadata": {},
   "outputs": [],
   "source": [
    "class_names = ['battery', 'biological', 'brown-glass', 'cardboard', 'clothes', 'green-glass', 'metal', 'paper', 'plastic', 'shoes', 'trash', 'white-glass']"
   ]
  },
  {
   "cell_type": "code",
   "execution_count": 12,
   "id": "dbdbf555",
   "metadata": {},
   "outputs": [],
   "source": [
    "def predict(image_path, model):\n",
    "    img = image.load_img(image_path, target_size=(224, 224))\n",
    "    img = image.img_to_array(img)\n",
    "    img = np.expand_dims(img, axis=0)\n",
    "    img = img / 255.0  # Normalize the image\n",
    "\n",
    "    # Make predictions\n",
    "    predictions = model.predict(img)\n",
    "\n",
    "    # Get the class with the highest probability\n",
    "    predicted_class = np.argmax(predictions)\n",
    "    predicted_class_name = class_names[predicted_class]\n",
    "    return predicted_class_name"
   ]
  },
  {
   "cell_type": "code",
   "execution_count": 13,
   "id": "ac20accf",
   "metadata": {},
   "outputs": [
    {
     "data": {
      "text/plain": [
       "'garbage_classification_enhanced/cardboard/cardboard504.jpg'"
      ]
     },
     "execution_count": 13,
     "metadata": {},
     "output_type": "execute_result"
    }
   ],
   "source": [
    "path = \"garbage_classification_enhanced/\"\n",
    "image_path = path + \"cardboard/cardboard504.jpg\"\n",
    "image_path"
   ]
  },
  {
   "cell_type": "code",
   "execution_count": 14,
   "id": "caafa856",
   "metadata": {},
   "outputs": [
    {
     "name": "stdout",
     "output_type": "stream",
     "text": [
      "cardboard\n"
     ]
    }
   ],
   "source": [
    "model1 = load_model(\"ws_new.keras\")\n",
    "print(predict(image_path, model1))"
   ]
  },
  {
   "cell_type": "code",
   "execution_count": 15,
   "id": "c6a1ff09",
   "metadata": {},
   "outputs": [
    {
     "name": "stdout",
     "output_type": "stream",
     "text": [
      "cardboard\n"
     ]
    }
   ],
   "source": [
    "model2 = load_model(\"ws_new.h5\")\n",
    "print(predict(image_path, model2))"
   ]
  },
  {
   "cell_type": "code",
   "execution_count": null,
   "id": "c6add3b6",
   "metadata": {},
   "outputs": [],
   "source": []
  }
 ],
 "metadata": {
  "kernelspec": {
   "display_name": "Python 3",
   "language": "python",
   "name": "python3"
  },
  "language_info": {
   "codemirror_mode": {
    "name": "ipython",
    "version": 3
   },
   "file_extension": ".py",
   "mimetype": "text/x-python",
   "name": "python",
   "nbconvert_exporter": "python",
   "pygments_lexer": "ipython3",
   "version": "3.6.8"
  }
 },
 "nbformat": 4,
 "nbformat_minor": 5
}
